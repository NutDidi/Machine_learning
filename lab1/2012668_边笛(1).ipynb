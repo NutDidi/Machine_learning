{
 "cells": [
  {
   "cell_type": "markdown",
   "metadata": {},
   "source": [
    "# 机器学习作业模板\n",
    "- 姓名：边笛\n",
    "- 学号：2012668\n",
    "- 专业：计算机科学与技术"
   ]
  },
  {
   "cell_type": "markdown",
   "metadata": {},
   "source": [
    "### 实验要求\n",
    "题目：基于KNN 的手写数字识别\n",
    "实验条件：给定semeion手写数字数据集，给定kNN分类算法\n",
    "实验要求：\n",
    "1. 基本要求：编程实现kNN算法；给出在不同k值（1，3，5）情况下，kNN算法对手写数字的识别精度（要求采用留一法）\n",
    "2. 中级要求：与weka机器学习包中的kNN分类结果进行对比\n",
    "3. 提高要求：将实验过程结果等图示展出\n",
    "\n",
    "**截止日期：10月7日**\n",
    "- 以.ipynb形式的文件提交，输出运行结果，并确保自己的代码能够正确运行\n",
    "- 发送到邮箱：2120220594@mail.nankai.edu.cn"
   ]
  },
  {
   "cell_type": "markdown",
   "metadata": {},
   "source": [
    "### 导入需要的包"
   ]
  },
  {
   "cell_type": "code",
   "execution_count": 1,
   "metadata": {},
   "outputs": [],
   "source": [
    "import numpy as np\n",
    "import operator\n",
    "from collections import Counter\n",
    "from sklearn.model_selection import train_test_split,cross_val_score\n",
    "from sklearn.model_selection import LeaveOneOut\n",
    "from sklearn.neighbors import KNeighborsClassifier\n",
    "from tqdm import tqdm\n",
    "import matplotlib.pyplot as plt\n",
    "import time"
   ]
  },
  {
   "cell_type": "markdown",
   "metadata": {},
   "source": [
    "### 导入数据集 semesion"
   ]
  },
  {
   "cell_type": "code",
   "execution_count": 2,
   "metadata": {},
   "outputs": [],
   "source": [
    "# 导入数据\n",
    "def Img2Mat(fileName):\n",
    "    f = open(fileName)\n",
    "    ss = f.readlines()\n",
    "    l = len(ss)\n",
    "    f.close()\n",
    "    returnMat = np.zeros((l,256)) #l*256\n",
    "    returnClassVector = np.zeros((l,1))\n",
    "    for i in range(l):\n",
    "        s1 = ss[i].split()\n",
    "        for j in range(256):\n",
    "            returnMat[i][j] = np.float64(s1[j])\n",
    "        clCount = 0\n",
    "        for j in range(256,266):\n",
    "            if s1[j] != '1':\n",
    "                clCount += 1\n",
    "            else:\n",
    "                break\n",
    "        returnClassVector[i] = clCount\n",
    "    return returnMat,returnClassVector"
   ]
  },
  {
   "cell_type": "code",
   "execution_count": 3,
   "metadata": {},
   "outputs": [
    {
     "data": {
      "text/plain": [
       "((1593, 256), (1593, 1))"
      ]
     },
     "execution_count": 3,
     "metadata": {},
     "output_type": "execute_result"
    }
   ],
   "source": [
    "X,y = Img2Mat('semeion.data')\n",
    "np.shape(X), np.shape(y)"
   ]
  },
  {
   "cell_type": "markdown",
   "metadata": {},
   "source": [
    "### 基本要求\n",
    "编程实现kNN算法；给出不同k值（1，3，5）情况下，kNN算法对手写数字的识别精度（模板中采用的是普通方法分割训练集和测试集，作业中需要用留一法）"
   ]
  },
  {
   "cell_type": "code",
   "execution_count": 4,
   "metadata": {},
   "outputs": [],
   "source": [
    "# KNN算法手动实现\n",
    "def MyKnnClassifier(data_X, data_y, neighbors):\n",
    "    # 生成数据集和测试集\n",
    "    loo = LeaveOneOut()\n",
    "    \n",
    "    testS = 0\n",
    "    acc = 0\n",
    "    for train_index,test_index in loo.split(X,y):\n",
    "        X_train=X[train_index]\n",
    "        X_test=X[test_index]\n",
    "        y_train=y[train_index]\n",
    "        y_test=y[test_index]\n",
    "        trainShape = X_train.shape[0]   # 获得训练集的大小\n",
    "        testShape = X_test.shape[0]     # 获得测试集的大小\n",
    "        testS += testShape\n",
    "        testRes = []  # 存放测试结果\n",
    "        for i in range(testShape):  # 针对测试集中每一个样本进行预测\n",
    "            # 差异矩阵 = 该样本与训练集中所有样本之差构成的矩阵\n",
    "            testDiffMat = np.tile(X_test[i],(trainShape , 1)) - X_train\n",
    "            sqTestDiffMat = testDiffMat ** 2    # 将差异矩阵平方\n",
    "            # 方差距离为方差矩阵的整行求和，是一个一位列向量\n",
    "            sqTestDiffDis = sqTestDiffMat.sum(axis=1)\n",
    "            testDiffDis = sqTestDiffDis ** 0.5  # 开方生成标准差距离\n",
    "            sortIndex = np.argsort(testDiffDis)   # 将标准差距离按照下标排序\n",
    "            labelCount = []\n",
    "            for j in range(neighbors):  # 考察k近邻属于哪些类\n",
    "                labelCount.append(y_train[sortIndex[j]][0])\n",
    "            classifyRes = Counter(labelCount)    # 把k近邻中最多的那个标签作为分类结果\n",
    "            classifyRes = classifyRes.most_common(2)[0][0]\n",
    "            testRes.append(classifyRes)\n",
    "            if classifyRes == y_test[i]:  # 分类正确则将accRate+1\n",
    "                acc+=1\n",
    "    accRate = acc / testS\n",
    "    print('k={0}时，测试个数为{1}  正确个数为：{2}  准确率为：{3}'.format(neighbors,testS,acc,accRate))        \n",
    "    return accRate"
   ]
  },
  {
   "cell_type": "markdown",
   "metadata": {},
   "source": [
    "实验结果："
   ]
  },
  {
   "cell_type": "code",
   "execution_count": 5,
   "metadata": {},
   "outputs": [
    {
     "name": "stdout",
     "output_type": "stream",
     "text": [
      "k=1时，测试个数为1593  正确个数为：1459  准确率为：0.9158819836785939\n",
      "k=3时，测试个数为1593  正确个数为：1464  准确率为：0.9190207156308852\n",
      "k=5时，测试个数为1593  正确个数为：1458  准确率为：0.9152542372881356\n"
     ]
    },
    {
     "data": {
      "text/plain": [
       "0.9152542372881356"
      ]
     },
     "execution_count": 5,
     "metadata": {},
     "output_type": "execute_result"
    }
   ],
   "source": [
    "MyKnnClassifier(X, y, 1)\n",
    "MyKnnClassifier(X, y, 3)\n",
    "MyKnnClassifier(X, y, 5)"
   ]
  },
  {
   "cell_type": "code",
   "execution_count": 6,
   "metadata": {},
   "outputs": [
    {
     "name": "stdout",
     "output_type": "stream",
     "text": [
      "k=1时，测试个数为1593  正确个数为：1459  准确率为：0.9158819836785939\n",
      "k=3时，测试个数为1593  正确个数为：1464  准确率为：0.9190207156308852\n",
      "k=5时，测试个数为1593  正确个数为：1458  准确率为：0.9152542372881356\n"
     ]
    },
    {
     "data": {
      "text/plain": [
       "0.9152542372881356"
      ]
     },
     "execution_count": 6,
     "metadata": {},
     "output_type": "execute_result"
    }
   ],
   "source": [
    "MyKnnClassifier(X, y, 1)\n",
    "MyKnnClassifier(X, y, 3)\n",
    "MyKnnClassifier(X, y, 5)"
   ]
  },
  {
   "cell_type": "markdown",
   "metadata": {},
   "source": [
    "### 中级要求\n",
    "模板中与sklearn机器学习包中的kNN分类结果进行对比（作业中需要与weka机器学习包中的kNN分类结果进行对比）"
   ]
  },
  {
   "cell_type": "markdown",
   "metadata": {},
   "source": [
    " **实验结果源于 weka 应用的测试结果：**  \n",
    " **利用 weka 测试了 k = range(1,30) 情况下的准确率,并记录在scores2中**  \n",
    " **在此处具体展示k=1、3、5时的测试结果**\n",
    "> |                  |      K = 1     |      K = 3      |       K = 5       |\n",
    "|:--------------------------------:|:--------------:|:---------------:|:----------------:|\n",
    "|        Correlation coefficient     | 0.8929 | 0.908 | 0.9071 | \n",
    "|        Mean absolute error        |  0.3427  |  0.4617  |   0.5423  |  \n",
    "|       Root mean squared error      |     1.33     |       1.2351    |     1.2528      |    \n",
    "|       Relative absolute error      |     13.7195%    |      18.4796%    |      21.7076%       | \n",
    "|      Root relative squared error     |     46.3106%     |      43.0045%     |      43.6197%      | \n",
    "|     Total Number of Instances    |      1593      |       1593      |       1593       |"
   ]
  },
  {
   "cell_type": "markdown",
   "metadata": {},
   "source": [
    "![weka分析结果](weka分析结果.png)"
   ]
  },
  {
   "cell_type": "markdown",
   "metadata": {},
   "source": [
    "实验结果："
   ]
  },
  {
   "cell_type": "code",
   "execution_count": 7,
   "metadata": {},
   "outputs": [],
   "source": [
    "scores2 = [0.8929,0.9082,0.908,0.907,0.9071,0.9081,0.9106,0.9071,0.9048,0.9025,0.9002,0.8985,0.8986,0.8959,0.8919,0.8896,0.8878,0.8865,0.8839,0.8825,0.8815,0.8794,0.8777,0.8752,0.8738,0.8726,0.871,0.8705,0.8698]"
   ]
  },
  {
   "cell_type": "markdown",
   "metadata": {},
   "source": [
    "### 高级要求\n",
    "将实验过程结果等图示展出"
   ]
  },
  {
   "cell_type": "code",
   "execution_count": 8,
   "metadata": {},
   "outputs": [
    {
     "name": "stdout",
     "output_type": "stream",
     "text": [
      "k=1时，测试个数为1593  正确个数为：1459  准确率为：0.9158819836785939\n",
      "k=2时，测试个数为1593  正确个数为：1459  准确率为：0.9158819836785939\n",
      "k=3时，测试个数为1593  正确个数为：1464  准确率为：0.9190207156308852\n",
      "k=4时，测试个数为1593  正确个数为：1465  准确率为：0.9196484620213434\n",
      "k=5时，测试个数为1593  正确个数为：1458  准确率为：0.9152542372881356\n",
      "k=6时，测试个数为1593  正确个数为：1464  准确率为：0.9190207156308852\n",
      "k=7时，测试个数为1593  正确个数为：1469  准确率为：0.9221594475831764\n",
      "k=8时，测试个数为1593  正确个数为：1472  准确率为：0.9240426867545511\n",
      "k=9时，测试个数为1593  正确个数为：1471  准确率为：0.9234149403640929\n",
      "k=10时，测试个数为1593  正确个数为：1465  准确率为：0.9196484620213434\n",
      "k=11时，测试个数为1593  正确个数为：1456  准确率为：0.9139987445072191\n",
      "k=12时，测试个数为1593  正确个数为：1460  准确率为：0.9165097300690521\n",
      "k=13时，测试个数为1593  正确个数为：1461  准确率为：0.9171374764595104\n",
      "k=14时，测试个数为1593  正确个数为：1453  准确率为：0.9121155053358443\n",
      "k=15时，测试个数为1593  正确个数为：1446  准确率为：0.9077212806026366\n",
      "k=16时，测试个数为1593  正确个数为：1446  准确率为：0.9077212806026366\n",
      "k=17时，测试个数为1593  正确个数为：1442  准确率为：0.9052102950408035\n",
      "k=18时，测试个数为1593  正确个数为：1438  准确率为：0.9026993094789705\n",
      "k=19时，测试个数为1593  正确个数为：1436  准确率为：0.901443816698054\n",
      "k=20时，测试个数为1593  正确个数为：1435  准确率为：0.9008160703075957\n",
      "k=21时，测试个数为1593  正确个数为：1436  准确率为：0.901443816698054\n",
      "k=22时，测试个数为1593  正确个数为：1440  准确率为：0.903954802259887\n",
      "k=23时，测试个数为1593  正确个数为：1435  准确率为：0.9008160703075957\n",
      "k=24时，测试个数为1593  正确个数为：1427  准确率为：0.8957940991839297\n",
      "k=25时，测试个数为1593  正确个数为：1426  准确率为：0.8951663527934715\n",
      "k=26时，测试个数为1593  正确个数为：1424  准确率为：0.8939108600125549\n",
      "k=27时，测试个数为1593  正确个数为：1424  准确率为：0.8939108600125549\n",
      "k=28时，测试个数为1593  正确个数为：1417  准确率为：0.8895166352793471\n",
      "k=29时，测试个数为1593  正确个数为：1423  准确率为：0.8932831136220967\n"
     ]
    }
   ],
   "source": [
    "scores1 = []\n",
    "\n",
    "\n",
    "for k in range(1,30):\n",
    "    score1 = MyKnnClassifier(X, y, k)\n",
    "    scores1.append(score1)\n",
    "    \n"
   ]
  },
  {
   "cell_type": "markdown",
   "metadata": {},
   "source": [
    "对图表的一些文字说明..."
   ]
  },
  {
   "cell_type": "code",
   "execution_count": 9,
   "metadata": {},
   "outputs": [
    {
     "data": {
      "image/png": "[encoded data removed]",
      "text/plain": [
       "<Figure size 640x480 with 1 Axes>"
      ]
     },
     "metadata": {},
     "output_type": "display_data"
    }
   ],
   "source": [
    "    plt.xlabel('k value:',fontsize=18)\n",
    "    plt.ylabel('accuracy',fontsize=18)\n",
    "    x_major_locator = plt.MultipleLocator(1)\n",
    "    ax = plt.gca()\n",
    "    ax.xaxis.set_major_locator(x_major_locator)\n",
    "    plt.xlim(0, 30)\n",
    "    plt.ylim(0.85, 0.95)\n",
    "    # 普通kNN分类精度\n",
    "    plt.plot(range(1,30),scores1,'r')\n",
    "    plt.plot(range(1,30),scores2,'b')\n",
    "    plt.show()"
   ]
  }
 ],
 "metadata": {
  "kernelspec": {
   "display_name": "Python 3 (ipykernel)",
   "language": "python",
   "name": "python3"
  },
  "language_info": {
   "codemirror_mode": {
    "name": "ipython",
    "version": 3
   },
   "file_extension": ".py",
   "mimetype": "text/x-python",
   "name": "python",
   "nbconvert_exporter": "python",
   "pygments_lexer": "ipython3",
   "version": "3.9.13"
  }
 },
 "nbformat": 4,
 "nbformat_minor": 2
}

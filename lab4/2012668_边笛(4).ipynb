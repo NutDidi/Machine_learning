{
 "cells": [
  {
   "cell_type": "markdown",
   "metadata": {},
   "source": [
    "# 机器学习作业模板\n",
    "- 姓名：边笛\n",
    "- 学号：2012668\n",
    "- 专业：计算机科学与技术"
   ]
  },
  {
   "cell_type": "markdown",
   "metadata": {},
   "source": [
    "### 实验要求\n",
    "题目：朴素贝叶斯分类器\n",
    "实验要求：\n",
    "1. 基本要求：a)采用分层采样的方式将数据集划分为训练集和测试集。 b)给定编写一个朴素贝叶斯分类器，对测试集进行预测，计算分类准确率。\n",
    "2. 中级要求：使用测试集评估模型，得到混淆矩阵，精度，召回率，F值。\n",
    "3. 高级要求：在中级要求的基础上画出三类数据的ROC曲线，并求出AUC值。\n",
    "\n",
    "**截止日期：11月18日**\n",
    "- 以.ipynb形式的文件提交，输出运行结果，并确保自己的代码能够正确运行\n",
    "- 发送到邮箱：2120220594@mail.nankai.edu.cn"
   ]
  },
  {
   "cell_type": "markdown",
   "metadata": {},
   "source": [
    "### 导入需要的包"
   ]
  },
  {
   "cell_type": "code",
   "execution_count": 1,
   "metadata": {},
   "outputs": [],
   "source": [
    "import math\n",
    "import numpy as np  \n",
    "import pandas as pd\n",
    "import matplotlib.pyplot as plt"
   ]
  },
  {
   "cell_type": "markdown",
   "metadata": {},
   "source": [
    "### 基本要求"
   ]
  },
  {
   "cell_type": "markdown",
   "metadata": {},
   "source": [
    "读取数据集并分类"
   ]
  },
  {
   "cell_type": "code",
   "execution_count": 2,
   "metadata": {},
   "outputs": [],
   "source": [
    "f = open('wine.data','r')\n",
    "types = [[],[],[]]                      #按类分的所有数据\n",
    "data_num = 0                            #数据总数\n",
    "test_len = []                           #测试集里每一类的个数  10%\n",
    "means = [[],[],[]]                      #每一类的均值\n",
    "std = [[],[],[]]                        #每一类的标准差\n",
    "myline = '1'\n",
    "#读入并分层\n",
    "while myline:\n",
    "    myline = f.readline().split(',')\n",
    "    if len(myline) != 14:\n",
    "        break\n",
    "    for t in range(len(myline)):\n",
    "        if t == 0:\n",
    "            myline[t] = int(myline[t])\n",
    "        else:\n",
    "            myline[t] = float(myline[t])\n",
    "    temp = myline.pop(0)\n",
    "    types[temp - 1].append(myline)\n",
    "data_num = sum([len(types[i]) for i in range(3)])                #总数"
   ]
  },
  {
   "cell_type": "code",
   "execution_count": 3,
   "metadata": {},
   "outputs": [],
   "source": [
    "test_data = [[],[],[]]           #测试集\n",
    "train_data = [[],[],[]]          #训练集\n",
    "#按3：7分层划分\n",
    "test_len = [round(len(types[i]) *3 / 10) for i in range(3)]    #每一类的个数\n",
    "data_num = sum([len(types[i]) for i in range(3)])\n",
    "#划分\n",
    "for j in range(3):\n",
    "    test_data[j] = np.mat(types[j][:test_len[j]])\n",
    "    train_data[j] = np.mat(types[j][test_len[j]:])"
   ]
  },
  {
   "cell_type": "markdown",
   "metadata": {},
   "source": [
    "编写朴素贝叶斯分类器"
   ]
  },
  {
   "cell_type": "code",
   "execution_count": 4,
   "metadata": {},
   "outputs": [],
   "source": [
    "#贝叶斯分类器\n",
    "def bayes_classificate(Train_data, Test_data, types):\n",
    "    '''\n",
    "        Train_data : 训练集\n",
    "        Test_data  : 测试集\n",
    "        types      : 所有数据\n",
    "        \n",
    "        Return\n",
    "           wrong_num  : 预测错误个数\n",
    "           predict    : 预测值\n",
    "           test       : 对应真值\n",
    "           Score      : 得分\n",
    "    '''\n",
    "    # 首先，分别计算训练集上三个类的均值和标准差\n",
    "    # mean = ...\n",
    "    # std = ...\n",
    "    data_num = sum([len(types[i]) for i in range(3)])           #总数\n",
    "    mean = [np.mean(Train_data[i],axis=0) for i in range(3)]    #均值\n",
    "    std = [np.std(Train_data[i],axis=0)for i in range(3)]       #标准差\n",
    "    predict = []  #记录预测分类\n",
    "    test = []     #记录对应真实值\n",
    "    Score = []    #记录得分\n",
    "    wrong_num = 0\n",
    "    for i in range(3):\n",
    "        for t in Test_data[i]:\n",
    "                              #两层循环：从每一类取每一个测试样本\n",
    "            my_type = []\n",
    "            for j in range(3):\n",
    "                #由于数据集中所有的属性都是连续值，连续值的似然估计可以按照高斯分布来计算：\n",
    "                # temp = ...\n",
    "                #可以取 log 计算最大值 但由于要记录得分，最后还是计算的原值\n",
    "                temp = np.log(np.sqrt(2*math.pi) * std[j])\n",
    "                temp -= (np.power(t - mean[j] , 2)) / (2 * np.power(std[j],2))\n",
    "                temp = np.sum(temp)\n",
    "                temp += math.log(len(types[j])/data_num)\n",
    "                temp = np.exp(temp)\n",
    "                my_type.append(temp)                        #这里将此次预测所有score保存\n",
    "            Score.append(my_type)                           #保留所有score\n",
    "            pre_type = my_type.index(max(my_type))          #取分值最大的为预测类别\n",
    "            predict.append(pre_type)                        #记录预测类别\n",
    "            test.append(i)                                  #记录对应真值\n",
    "            if pre_type != i:                               #统计错误数\n",
    "                wrong_num += 1\n",
    "            \n",
    "    return wrong_num,predict,test,Score"
   ]
  },
  {
   "cell_type": "markdown",
   "metadata": {},
   "source": [
    "预测，计算分类准确率"
   ]
  },
  {
   "cell_type": "code",
   "execution_count": 5,
   "metadata": {},
   "outputs": [
    {
     "name": "stdout",
     "output_type": "stream",
     "text": [
      "准确率 96.226%\n"
     ]
    }
   ],
   "source": [
    "error_num,pre_y,test_y,pre_score = bayes_classificate(train_data,test_data, types)\n",
    "N = np.sum(test_len)                  #测试数据总数\n",
    "Accuracy = 1- error_num / N           #准确率\n",
    "acc = Accuracy*100\n",
    "print(\"准确率 {}%\".format(round(acc,3)))"
   ]
  },
  {
   "cell_type": "markdown",
   "metadata": {},
   "source": [
    "### 中级要求\n",
    "使用测试集评估模型，得到混淆矩阵，精度，召回率，F值。"
   ]
  },
  {
   "cell_type": "code",
   "execution_count": 6,
   "metadata": {},
   "outputs": [],
   "source": [
    "#绘制多分类混淆矩阵\n",
    "def PlotConfusionMatrix(X):  \n",
    "    '''\n",
    "        X : 多分类的混淆矩阵 \n",
    "    '''\n",
    "    matrix = np.mat(X)\n",
    "\n",
    "    plt.imshow(matrix, cmap=plt.cm.Blues)  # color from white to blue\n",
    "    labels = ['1','2','3']\n",
    "    plt.xticks(range(3), labels, rotation=45)\n",
    "    plt.yticks(range(3), labels)\n",
    "\n",
    "    # show colorbar\n",
    "    plt.colorbar()\n",
    "\n",
    "    plt.xlabel('Predicted Labels')\n",
    "    plt.ylabel('True Labels')\n",
    "    plt.title('Confusion matrix')\n",
    "\n",
    "    # 在图中标注数量/概率信息\n",
    "    thresh = matrix.max() / 2\n",
    "\n",
    "    for x in range(3):\n",
    "        for y in range(3):\n",
    "\n",
    "            info = int(matrix[y, x])\n",
    "            plt.text(x, y, info,\n",
    "                     verticalalignment='center',\n",
    "                     horizontalalignment='center',\n",
    "                     color=\"white\" if info > thresh else \"black\")\n",
    "    plt.tight_layout()\n",
    "    plt.show()"
   ]
  },
  {
   "cell_type": "code",
   "execution_count": 7,
   "metadata": {},
   "outputs": [],
   "source": [
    "#计算混淆矩阵\n",
    "X=[[0,0,0],[0,0,0],[0,0,0]]\n",
    "for i in range(len(pre_y)):\n",
    "    X[test_y[i] - 1][pre_y[i] -1] += 1\n",
    "\n",
    "#针对每个类别计算TP TN FP FN\n",
    "TP = [0,0,0]\n",
    "TN = [0,0,0]\n",
    "FP = [0,0,0]\n",
    "FN = [0,0,0]\n",
    "for i in range(3):\n",
    "    TP[i] = X[i][i]\n",
    "    for r in range(3):\n",
    "        for c in range(3):\n",
    "            if r == i and c!= i:\n",
    "                FN[i] += X[r][c]\n",
    "            if r!= i and c == i:\n",
    "                FP[i] += X[r][c]\n",
    "            if r!=i and c!= i:\n",
    "                TN[i] += X[r][c]\n",
    "                \n",
    "#分别计算每个类别的精度，召回率，F值               \n",
    "Precision = [0,0,0]\n",
    "Recall = [0,0,0]\n",
    "F1 = [0,0,0]\n",
    "for i in range(3):\n",
    "    Precision[i] = TP[i] / ( TP[i] + FP[i] )\n",
    "    Recall[i] = TP[i] / ( TP[i] + FN[i] )\n",
    "    F1[i] = (2 * Precision[i] * Recall[i])/(Precision[i] + Recall[i])\n",
    "    \n",
    "#计算多分类的精度，召回率，F值（取均值方法）\n",
    "macro_P = np.mean(Precision)\n",
    "macro_R = np.mean(Recall)\n",
    "macro_F1 = np.mean(F1)\n"
   ]
  },
  {
   "cell_type": "code",
   "execution_count": 8,
   "metadata": {},
   "outputs": [
    {
     "name": "stdout",
     "output_type": "stream",
     "text": [
      "result:\n",
      "                precision         recall         f1-score\n",
      "        1         0.913            1.000           0.955\n",
      "        2         1.000            0.857           0.923\n",
      "        3         1.000            1.000           1.000\n",
      "\n",
      "macro_avg         0.971            0.952           0.959\n"
     ]
    },
    {
     "data": {
      "image/png": "[encoded data removed]",
      "text/plain": [
       "<Figure size 640x480 with 2 Axes>"
      ]
     },
     "metadata": {},
     "output_type": "display_data"
    }
   ],
   "source": [
    "print(\"result:\")\n",
    "print(\"                {}         {}         {}\".format(\"precision\",\"recall\",\"f1-score\"))\n",
    "for i in range(3):\n",
    "    print(\"        {}         {:.3f}            {:.3f}           {:.3f}\".format(i+1,Precision[i],Recall[i],F1[i]))\n",
    "print()\n",
    "print(\"macro_avg         {:.3f}            {:.3f}           {:.3f}\".format(round(macro_P,3),round(macro_R,3),round(macro_F1,3)))\n",
    "    \n",
    "PlotConfusionMatrix(X)"
   ]
  },
  {
   "cell_type": "markdown",
   "metadata": {},
   "source": [
    "### 高级要求\n",
    "在中级要求的基础上画出三类数据的ROC曲线，并求出AUC值。"
   ]
  },
  {
   "cell_type": "code",
   "execution_count": 9,
   "metadata": {},
   "outputs": [],
   "source": [
    "#计算TPR、FPR\n",
    "pre_score = np.array(pre_score)\n",
    "TPR = [[],[],[]]\n",
    "FPR = [[],[],[]]\n",
    "for i in range(3):\n",
    "    scores = pre_score[:,i]\n",
    "    scores_Sort = np.sort(scores)\n",
    "    for j in range(len(test_y)-1,-1,-1):\n",
    "        threshold = scores_Sort[j]\n",
    "        t = 0\n",
    "        f = 0\n",
    "        for k in range(len(test_y)):\n",
    "            if (scores[k] >= threshold):\n",
    "                if(test_y[k] == i):\n",
    "                    t += 1\n",
    "                else:\n",
    "                    f += 1\n",
    "        FPR[i].append( f / (np.sum(test_len)-test_len[i]) )\n",
    "        TPR[i].append( t /test_len[i])\n",
    "\n",
    "\n",
    "#计算AUC        \n",
    "AUC = []\n",
    "for i in range(3):\n",
    "    s = 0\n",
    "    for j in  range(len(FPR[i])-1):\n",
    "        s += (FPR[i][j+1]-FPR[i][j])*(TPR[i][j])\n",
    "    AUC.append(s)"
   ]
  },
  {
   "cell_type": "code",
   "execution_count": 10,
   "metadata": {},
   "outputs": [
    {
     "data": {
      "image/png": "[encoded data removed]",
      "text/plain": [
       "<Figure size 640x480 with 1 Axes>"
      ]
     },
     "metadata": {},
     "output_type": "display_data"
    }
   ],
   "source": [
    "# 绘图\n",
    "import matplotlib.pyplot as plt\n",
    "plt.figure()\n",
    "plt.plot(FPR[0], TPR[0],  label='label = 0, area = %0.3f' % ( AUC[0]))\n",
    "plt.plot(FPR[1], TPR[1],  label='label = 1, area = %0.3f' % ( AUC[1]))\n",
    "plt.plot(FPR[2], TPR[2],  label='label = 2, area = %0.3f' % ( AUC[2]))\n",
    "plt.plot([0, 1], [0, 1], color='black', linestyle='--')\n",
    "plt.xlim([0.0, 1.0])\n",
    "plt.ylim([0.0, 1.05])\n",
    "plt.xlabel('FPR')\n",
    "plt.ylabel('TPR')\n",
    "plt.title('ROC')\n",
    "plt.legend(loc=\"lower right\")\n",
    "plt.show()"
   ]
  }
 ],
 "metadata": {
  "kernelspec": {
   "display_name": "Python 3 (ipykernel)",
   "language": "python",
   "name": "python3"
  },
  "language_info": {
   "codemirror_mode": {
    "name": "ipython",
    "version": 3
   },
   "file_extension": ".py",
   "mimetype": "text/x-python",
   "name": "python",
   "nbconvert_exporter": "python",
   "pygments_lexer": "ipython3",
   "version": "3.9.13"
  }
 },
 "nbformat": 4,
 "nbformat_minor": 2
}
